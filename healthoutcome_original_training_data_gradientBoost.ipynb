{
 "cells": [
  {
   "cell_type": "code",
   "execution_count": 46,
   "metadata": {},
   "outputs": [],
   "source": [
    "import pandas as pd\n",
    "import numpy as np\n",
    "from sklearn.model_selection import train_test_split, GridSearchCV\n",
    "from sklearn.ensemble import GradientBoostingClassifier\n",
    "from sklearn.preprocessing import LabelEncoder\n",
    "from sklearn.metrics import f1_score, precision_score, recall_score\n",
    "import matplotlib.pyplot as plt\n",
    "from imblearn.over_sampling import SMOTE"
   ]
  },
  {
   "cell_type": "code",
   "execution_count": 47,
   "metadata": {},
   "outputs": [],
   "source": [
    "horse_data = pd.read_csv(\"data/horse.csv\")\n",
    "training_data = pd.read_csv(\"data/train.csv\")\n",
    "#read in test data from kaggle\n",
    "test_data = pd.read_csv(\"data/test.csv\")\n"
   ]
  },
  {
   "cell_type": "code",
   "execution_count": 48,
   "metadata": {},
   "outputs": [],
   "source": [
    "\n",
    "horse_data = pd.concat([horse_data, training_data], axis=0, ignore_index=True)\n"
   ]
  },
  {
   "cell_type": "code",
   "execution_count": 49,
   "metadata": {},
   "outputs": [
    {
     "name": "stdout",
     "output_type": "stream",
     "text": [
      "Index(['surgery', 'age', 'hospital_number', 'rectal_temp', 'pulse',\n",
      "       'respiratory_rate', 'temp_of_extremities', 'peripheral_pulse',\n",
      "       'mucous_membrane', 'capillary_refill_time', 'pain', 'peristalsis',\n",
      "       'abdominal_distention', 'nasogastric_tube', 'nasogastric_reflux',\n",
      "       'nasogastric_reflux_ph', 'rectal_exam_feces', 'abdomen',\n",
      "       'packed_cell_volume', 'total_protein', 'abdomo_appearance',\n",
      "       'abdomo_protein', 'outcome', 'surgical_lesion', 'lesion_1', 'lesion_2',\n",
      "       'lesion_3', 'cp_data', 'id'],\n",
      "      dtype='object')\n",
      "Index(['id', 'surgery', 'age', 'hospital_number', 'rectal_temp', 'pulse',\n",
      "       'respiratory_rate', 'temp_of_extremities', 'peripheral_pulse',\n",
      "       'mucous_membrane', 'capillary_refill_time', 'pain', 'peristalsis',\n",
      "       'abdominal_distention', 'nasogastric_tube', 'nasogastric_reflux',\n",
      "       'nasogastric_reflux_ph', 'rectal_exam_feces', 'abdomen',\n",
      "       'packed_cell_volume', 'total_protein', 'abdomo_appearance',\n",
      "       'abdomo_protein', 'surgical_lesion', 'lesion_1', 'lesion_2', 'lesion_3',\n",
      "       'cp_data'],\n",
      "      dtype='object')\n"
     ]
    }
   ],
   "source": [
    "print(horse_data.columns)\n",
    "print(test_data.columns)"
   ]
  },
  {
   "cell_type": "code",
   "execution_count": 50,
   "metadata": {},
   "outputs": [
    {
     "data": {
      "text/html": [
       "<div>\n",
       "<style scoped>\n",
       "    .dataframe tbody tr th:only-of-type {\n",
       "        vertical-align: middle;\n",
       "    }\n",
       "\n",
       "    .dataframe tbody tr th {\n",
       "        vertical-align: top;\n",
       "    }\n",
       "\n",
       "    .dataframe thead th {\n",
       "        text-align: right;\n",
       "    }\n",
       "</style>\n",
       "<table border=\"1\" class=\"dataframe\">\n",
       "  <thead>\n",
       "    <tr style=\"text-align: right;\">\n",
       "      <th></th>\n",
       "      <th>id</th>\n",
       "      <th>surgery</th>\n",
       "      <th>age</th>\n",
       "      <th>hospital_number</th>\n",
       "      <th>rectal_temp</th>\n",
       "      <th>pulse</th>\n",
       "      <th>respiratory_rate</th>\n",
       "      <th>temp_of_extremities</th>\n",
       "      <th>peripheral_pulse</th>\n",
       "      <th>mucous_membrane</th>\n",
       "      <th>...</th>\n",
       "      <th>packed_cell_volume</th>\n",
       "      <th>total_protein</th>\n",
       "      <th>abdomo_appearance</th>\n",
       "      <th>abdomo_protein</th>\n",
       "      <th>outcome</th>\n",
       "      <th>surgical_lesion</th>\n",
       "      <th>lesion_1</th>\n",
       "      <th>lesion_2</th>\n",
       "      <th>lesion_3</th>\n",
       "      <th>cp_data</th>\n",
       "    </tr>\n",
       "  </thead>\n",
       "  <tbody>\n",
       "    <tr>\n",
       "      <th>0</th>\n",
       "      <td>0.0</td>\n",
       "      <td>no</td>\n",
       "      <td>adult</td>\n",
       "      <td>530101</td>\n",
       "      <td>38.5</td>\n",
       "      <td>66.0</td>\n",
       "      <td>28.0</td>\n",
       "      <td>cool</td>\n",
       "      <td>reduced</td>\n",
       "      <td>NaN</td>\n",
       "      <td>...</td>\n",
       "      <td>45.0</td>\n",
       "      <td>8.4</td>\n",
       "      <td>NaN</td>\n",
       "      <td>NaN</td>\n",
       "      <td>died</td>\n",
       "      <td>no</td>\n",
       "      <td>11300</td>\n",
       "      <td>0</td>\n",
       "      <td>0</td>\n",
       "      <td>no</td>\n",
       "    </tr>\n",
       "    <tr>\n",
       "      <th>1</th>\n",
       "      <td>0.0</td>\n",
       "      <td>yes</td>\n",
       "      <td>adult</td>\n",
       "      <td>534817</td>\n",
       "      <td>39.2</td>\n",
       "      <td>88.0</td>\n",
       "      <td>20.0</td>\n",
       "      <td>NaN</td>\n",
       "      <td>NaN</td>\n",
       "      <td>pale_cyanotic</td>\n",
       "      <td>...</td>\n",
       "      <td>50.0</td>\n",
       "      <td>85.0</td>\n",
       "      <td>cloudy</td>\n",
       "      <td>2.0</td>\n",
       "      <td>euthanized</td>\n",
       "      <td>no</td>\n",
       "      <td>2208</td>\n",
       "      <td>0</td>\n",
       "      <td>0</td>\n",
       "      <td>no</td>\n",
       "    </tr>\n",
       "    <tr>\n",
       "      <th>2</th>\n",
       "      <td>0.0</td>\n",
       "      <td>no</td>\n",
       "      <td>adult</td>\n",
       "      <td>530334</td>\n",
       "      <td>38.3</td>\n",
       "      <td>40.0</td>\n",
       "      <td>24.0</td>\n",
       "      <td>normal</td>\n",
       "      <td>normal</td>\n",
       "      <td>pale_pink</td>\n",
       "      <td>...</td>\n",
       "      <td>33.0</td>\n",
       "      <td>6.7</td>\n",
       "      <td>NaN</td>\n",
       "      <td>NaN</td>\n",
       "      <td>lived</td>\n",
       "      <td>no</td>\n",
       "      <td>0</td>\n",
       "      <td>0</td>\n",
       "      <td>0</td>\n",
       "      <td>yes</td>\n",
       "    </tr>\n",
       "    <tr>\n",
       "      <th>3</th>\n",
       "      <td>0.0</td>\n",
       "      <td>yes</td>\n",
       "      <td>young</td>\n",
       "      <td>5290409</td>\n",
       "      <td>39.1</td>\n",
       "      <td>164.0</td>\n",
       "      <td>84.0</td>\n",
       "      <td>cold</td>\n",
       "      <td>normal</td>\n",
       "      <td>dark_cyanotic</td>\n",
       "      <td>...</td>\n",
       "      <td>48.0</td>\n",
       "      <td>7.2</td>\n",
       "      <td>serosanguious</td>\n",
       "      <td>5.3</td>\n",
       "      <td>died</td>\n",
       "      <td>yes</td>\n",
       "      <td>2208</td>\n",
       "      <td>0</td>\n",
       "      <td>0</td>\n",
       "      <td>yes</td>\n",
       "    </tr>\n",
       "    <tr>\n",
       "      <th>4</th>\n",
       "      <td>0.0</td>\n",
       "      <td>no</td>\n",
       "      <td>adult</td>\n",
       "      <td>530255</td>\n",
       "      <td>37.3</td>\n",
       "      <td>104.0</td>\n",
       "      <td>35.0</td>\n",
       "      <td>NaN</td>\n",
       "      <td>NaN</td>\n",
       "      <td>dark_cyanotic</td>\n",
       "      <td>...</td>\n",
       "      <td>74.0</td>\n",
       "      <td>7.4</td>\n",
       "      <td>NaN</td>\n",
       "      <td>NaN</td>\n",
       "      <td>died</td>\n",
       "      <td>no</td>\n",
       "      <td>4300</td>\n",
       "      <td>0</td>\n",
       "      <td>0</td>\n",
       "      <td>no</td>\n",
       "    </tr>\n",
       "  </tbody>\n",
       "</table>\n",
       "<p>5 rows × 29 columns</p>\n",
       "</div>"
      ],
      "text/plain": [
       "    id surgery    age  hospital_number  rectal_temp  pulse  respiratory_rate  \\\n",
       "0  0.0      no  adult           530101         38.5   66.0              28.0   \n",
       "1  0.0     yes  adult           534817         39.2   88.0              20.0   \n",
       "2  0.0      no  adult           530334         38.3   40.0              24.0   \n",
       "3  0.0     yes  young          5290409         39.1  164.0              84.0   \n",
       "4  0.0      no  adult           530255         37.3  104.0              35.0   \n",
       "\n",
       "  temp_of_extremities peripheral_pulse mucous_membrane  ...  \\\n",
       "0                cool          reduced             NaN  ...   \n",
       "1                 NaN              NaN   pale_cyanotic  ...   \n",
       "2              normal           normal       pale_pink  ...   \n",
       "3                cold           normal   dark_cyanotic  ...   \n",
       "4                 NaN              NaN   dark_cyanotic  ...   \n",
       "\n",
       "  packed_cell_volume total_protein abdomo_appearance abdomo_protein  \\\n",
       "0               45.0           8.4               NaN            NaN   \n",
       "1               50.0          85.0            cloudy            2.0   \n",
       "2               33.0           6.7               NaN            NaN   \n",
       "3               48.0           7.2     serosanguious            5.3   \n",
       "4               74.0           7.4               NaN            NaN   \n",
       "\n",
       "      outcome surgical_lesion  lesion_1 lesion_2 lesion_3  cp_data  \n",
       "0        died              no     11300        0        0       no  \n",
       "1  euthanized              no      2208        0        0       no  \n",
       "2       lived              no         0        0        0      yes  \n",
       "3        died             yes      2208        0        0      yes  \n",
       "4        died              no      4300        0        0       no  \n",
       "\n",
       "[5 rows x 29 columns]"
      ]
     },
     "execution_count": 50,
     "metadata": {},
     "output_type": "execute_result"
    }
   ],
   "source": [
    "#euthenized means died so reduce the number of outcomes from 3 to 2\n",
    "horse_data[\"outcome\"].replace(\"euthanized\", \"died\", inplace=True)\n",
    "\n",
    "horse_data['id'] = horse_data['id'].fillna(0)\n",
    "\n",
    "# Reorder the columns\n",
    "column_order = ['id'] + [col for col in horse_data.columns if col != 'id']\n",
    "horse_data = horse_data[column_order]\n",
    "\n",
    "\n",
    "\n",
    "horse_data.head()\n"
   ]
  },
  {
   "cell_type": "code",
   "execution_count": 51,
   "metadata": {},
   "outputs": [
    {
     "name": "stdout",
     "output_type": "stream",
     "text": [
      "Missing Columns: {'outcome'}\n"
     ]
    }
   ],
   "source": [
    "# Assuming X contains your reference DataFrame and test_data contains the DataFrame to be compared\n",
    "\n",
    "# Get the set of columns in X and test_data\n",
    "columns_in_horse = set(horse_data.columns)\n",
    "columns_in_test_data = set(test_data.columns)\n",
    "\n",
    "# Find the columns that are in X but not in test_data\n",
    "missing_columns = columns_in_horse - columns_in_test_data\n",
    "\n",
    "# Print the missing columns\n",
    "print(\"Missing Columns:\", missing_columns)"
   ]
  },
  {
   "cell_type": "code",
   "execution_count": 52,
   "metadata": {},
   "outputs": [
    {
     "name": "stdout",
     "output_type": "stream",
     "text": [
      "28\n",
      "29\n"
     ]
    }
   ],
   "source": [
    "print(len(test_data.columns))\n",
    "print(len(horse_data.columns))"
   ]
  },
  {
   "cell_type": "code",
   "execution_count": 53,
   "metadata": {},
   "outputs": [
    {
     "data": {
      "text/plain": [
       "id                       float64\n",
       "surgery                   object\n",
       "age                       object\n",
       "hospital_number            int64\n",
       "rectal_temp              float64\n",
       "pulse                    float64\n",
       "respiratory_rate         float64\n",
       "temp_of_extremities       object\n",
       "peripheral_pulse          object\n",
       "mucous_membrane           object\n",
       "capillary_refill_time     object\n",
       "pain                      object\n",
       "peristalsis               object\n",
       "abdominal_distention      object\n",
       "nasogastric_tube          object\n",
       "nasogastric_reflux        object\n",
       "nasogastric_reflux_ph    float64\n",
       "rectal_exam_feces         object\n",
       "abdomen                   object\n",
       "packed_cell_volume       float64\n",
       "total_protein            float64\n",
       "abdomo_appearance         object\n",
       "abdomo_protein           float64\n",
       "outcome                   object\n",
       "surgical_lesion           object\n",
       "lesion_1                   int64\n",
       "lesion_2                   int64\n",
       "lesion_3                   int64\n",
       "cp_data                   object\n",
       "dtype: object"
      ]
     },
     "execution_count": 53,
     "metadata": {},
     "output_type": "execute_result"
    }
   ],
   "source": [
    "horse_data.dtypes"
   ]
  },
  {
   "cell_type": "code",
   "execution_count": 54,
   "metadata": {},
   "outputs": [
    {
     "name": "stdout",
     "output_type": "stream",
     "text": [
      "Index(['rectal_temp', 'pulse', 'respiratory_rate', 'temp_of_extremities',\n",
      "       'peripheral_pulse', 'mucous_membrane', 'capillary_refill_time', 'pain',\n",
      "       'peristalsis', 'abdominal_distention', 'nasogastric_tube',\n",
      "       'nasogastric_reflux', 'nasogastric_reflux_ph', 'rectal_exam_feces',\n",
      "       'abdomen', 'packed_cell_volume', 'total_protein', 'abdomo_appearance',\n",
      "       'abdomo_protein'],\n",
      "      dtype='object')\n"
     ]
    }
   ],
   "source": [
    "#check for null values\n",
    "print(horse_data.columns[horse_data.isnull().any()])"
   ]
  },
  {
   "cell_type": "code",
   "execution_count": 55,
   "metadata": {},
   "outputs": [
    {
     "name": "stdout",
     "output_type": "stream",
     "text": [
      "Index([], dtype='object')\n"
     ]
    },
    {
     "name": "stderr",
     "output_type": "stream",
     "text": [
      "C:\\Users\\sarah\\AppData\\Local\\Temp\\ipykernel_8148\\704253132.py:7: DeprecationWarning: `np.object` is a deprecated alias for the builtin `object`. To silence this warning, use `object` by itself. Doing this will not modify any behavior and is safe. \n",
      "Deprecated in NumPy 1.20; for more details and guidance: https://numpy.org/devdocs/release/1.20.0-notes.html#deprecations\n",
      "  categorical_features = horse_data.select_dtypes(include=[np.object]).columns.tolist()\n"
     ]
    }
   ],
   "source": [
    "#fill any na values in numerical columns with the median value of the column \n",
    "numerical_features = horse_data.select_dtypes(include=[np.number]).columns.tolist()\n",
    "for feature in numerical_features:\n",
    "    horse_data[feature].fillna(horse_data[feature].median(), inplace=True)\n",
    "\n",
    "#fill any na values in categorical column with none\n",
    "categorical_features = horse_data.select_dtypes(include=[np.object]).columns.tolist()\n",
    "for feature in categorical_features:\n",
    "    horse_data[feature].fillna('None', inplace=True)\n",
    "\n",
    "\n",
    "#check if null values are gone\n",
    "print(horse_data.columns[horse_data.isnull().any()])"
   ]
  },
  {
   "cell_type": "code",
   "execution_count": 56,
   "metadata": {},
   "outputs": [
    {
     "name": "stdout",
     "output_type": "stream",
     "text": [
      "Column 'pain' has different unique values between test_data and horse_data.\n",
      "Column 'peristalsis' has different unique values between test_data and horse_data.\n",
      "Column 'nasogastric_reflux' has different unique values between test_data and horse_data.\n",
      "Column 'rectal_exam_feces' has different unique values between test_data and horse_data.\n"
     ]
    }
   ],
   "source": [
    "# Get columns that are of type \"object\" for both DataFrames\n",
    "object_columns_test_data = test_data.select_dtypes(include=['object'])\n",
    "object_columns_horse_data = horse_data.select_dtypes(include=['object'])\n",
    "\n",
    "# Loop through the common columns and check if they have the same unique values\n",
    "common_columns = object_columns_test_data.columns.intersection(object_columns_horse_data.columns)\n",
    "\n",
    "for column in common_columns:\n",
    "    unique_values_test_data = test_data[column].unique()\n",
    "    unique_values_horse_data = horse_data[column].unique()\n",
    "    \n",
    "    if set(unique_values_test_data) != set(unique_values_horse_data):\n",
    "        print(f\"Column '{column}' has different unique values between test_data and horse_data.\")\n"
   ]
  },
  {
   "cell_type": "code",
   "execution_count": 57,
   "metadata": {},
   "outputs": [
    {
     "name": "stdout",
     "output_type": "stream",
     "text": [
      "['decreased' 'absent' 'normal' 'None' 'increased' 'serosanguious']\n",
      "['normal' 'decreased' 'absent' 'None' 'increased']\n"
     ]
    }
   ],
   "source": [
    "print(horse_data[\"rectal_exam_feces\"].unique())\n",
    "print(test_data[\"rectal_exam_feces\"].unique())"
   ]
  },
  {
   "cell_type": "code",
   "execution_count": 58,
   "metadata": {},
   "outputs": [
    {
     "name": "stdout",
     "output_type": "stream",
     "text": [
      "['decreased' 'absent' 'normal' 'None' 'increased' 'serosanguious']\n"
     ]
    }
   ],
   "source": [
    "unique_values = horse_data['rectal_exam_feces'].unique()\n",
    "print(unique_values)"
   ]
  },
  {
   "cell_type": "code",
   "execution_count": 59,
   "metadata": {},
   "outputs": [
    {
     "data": {
      "text/plain": [
       "absent           572\n",
       "decreased        317\n",
       "None             292\n",
       "normal           290\n",
       "increased         62\n",
       "serosanguious      1\n",
       "Name: rectal_exam_feces, dtype: int64"
      ]
     },
     "execution_count": 59,
     "metadata": {},
     "output_type": "execute_result"
    }
   ],
   "source": [
    "horse_data['rectal_exam_feces'].value_counts()\n"
   ]
  },
  {
   "cell_type": "code",
   "execution_count": 60,
   "metadata": {},
   "outputs": [],
   "source": [
    "# Drop rows where 'rectal_exam_feces' is 'serosanguious'\n",
    "horse_data = horse_data[horse_data['rectal_exam_feces'] != 'serosanguious']\n"
   ]
  },
  {
   "cell_type": "code",
   "execution_count": 61,
   "metadata": {},
   "outputs": [
    {
     "name": "stdout",
     "output_type": "stream",
     "text": [
      "['None' 'less_1_liter' 'none' 'more_1_liter' 'slight']\n",
      "['none' 'more_1_liter' 'less_1_liter' 'None']\n"
     ]
    }
   ],
   "source": [
    "print(horse_data[\"nasogastric_reflux\"].unique())\n",
    "print(test_data[\"nasogastric_reflux\"].unique())"
   ]
  },
  {
   "cell_type": "code",
   "execution_count": 62,
   "metadata": {},
   "outputs": [],
   "source": [
    "horse_data[\"nasogastric_reflux\"].replace({'None': 'none', 'slight': 'none'}, inplace=True)\n",
    "test_data[\"nasogastric_reflux\"].replace({'None': 'none'}, inplace=True)\n"
   ]
  },
  {
   "cell_type": "code",
   "execution_count": 63,
   "metadata": {},
   "outputs": [
    {
     "name": "stdout",
     "output_type": "stream",
     "text": [
      "['absent' 'hypomotile' 'None' 'hypermotile' 'normal' 'distend_small']\n",
      "['hypomotile' 'absent' 'hypermotile' 'None' 'normal']\n"
     ]
    }
   ],
   "source": [
    "print(horse_data[\"peristalsis\"].unique())\n",
    "print(test_data[\"peristalsis\"].unique())"
   ]
  },
  {
   "cell_type": "code",
   "execution_count": 64,
   "metadata": {},
   "outputs": [],
   "source": [
    "horse_data = horse_data[horse_data['peristalsis'] != 'distend_small']\n"
   ]
  },
  {
   "cell_type": "code",
   "execution_count": 65,
   "metadata": {},
   "outputs": [
    {
     "name": "stdout",
     "output_type": "stream",
     "text": [
      "['extreme_pain' 'mild_pain' 'depressed' 'None' 'severe_pain' 'alert'\n",
      " 'slight']\n",
      "['mild_pain' 'depressed' 'severe_pain' 'extreme_pain' 'None' 'moderate'\n",
      " 'alert']\n"
     ]
    }
   ],
   "source": [
    "print(horse_data[\"pain\"].unique())\n",
    "print(test_data[\"pain\"].unique())"
   ]
  },
  {
   "cell_type": "code",
   "execution_count": 66,
   "metadata": {},
   "outputs": [],
   "source": [
    "horse_data[\"pain\"] = horse_data[\"pain\"].replace('slight', 'moderate')"
   ]
  },
  {
   "cell_type": "code",
   "execution_count": 67,
   "metadata": {},
   "outputs": [],
   "source": [
    "#check that columns now have the same values\n",
    "object_columns_test_data = test_data.select_dtypes(include=['object'])\n",
    "object_columns_horse_data = horse_data.select_dtypes(include=['object'])\n",
    "\n",
    "# Loop through the common columns and check if they have the same unique values\n",
    "common_columns = object_columns_test_data.columns.intersection(object_columns_horse_data.columns)\n",
    "\n",
    "for column in common_columns:\n",
    "    unique_values_test_data = test_data[column].unique()\n",
    "    unique_values_horse_data = horse_data[column].unique()\n",
    "    \n",
    "    if set(unique_values_test_data) != set(unique_values_horse_data):\n",
    "        print(f\"Column '{column}' has different unique values between test_data and horse_data.\")"
   ]
  },
  {
   "cell_type": "code",
   "execution_count": 68,
   "metadata": {},
   "outputs": [],
   "source": [
    "# Separate features (X) and target variable (y) for training data\n",
    "X = horse_data.drop(columns=[\"outcome\"])\n",
    "y = horse_data[\"outcome\"]\n",
    "\n",
    "label_encoder = LabelEncoder()\n",
    "\n",
    "# Encode the target variable\n",
    "y_encoded = label_encoder.fit_transform(y)"
   ]
  },
  {
   "cell_type": "code",
   "execution_count": 69,
   "metadata": {},
   "outputs": [],
   "source": [
    "object_columns_X = X.select_dtypes(include=['object'])\n",
    "\n",
    "# Iterate through categorical columns and encode them\n",
    "for column in object_columns_X:\n",
    "    X[column] = label_encoder.fit_transform(X[column])\n"
   ]
  },
  {
   "cell_type": "code",
   "execution_count": 70,
   "metadata": {},
   "outputs": [],
   "source": [
    "# Apply SMOTE to balance the class distribution\n",
    "smote = SMOTE(random_state=42)\n",
    "X_resampled, y_resampled = smote.fit_resample(X, y_encoded)"
   ]
  },
  {
   "cell_type": "code",
   "execution_count": 71,
   "metadata": {},
   "outputs": [
    {
     "name": "stdout",
     "output_type": "stream",
     "text": [
      "28\n"
     ]
    }
   ],
   "source": [
    "print(len(X.columns))"
   ]
  },
  {
   "cell_type": "code",
   "execution_count": 72,
   "metadata": {},
   "outputs": [],
   "source": [
    "#define categorical columns and split the data\n",
    "#categorical_columns = list(X.loc[:, X.dtypes == 'object'].columns)\n",
    "\n",
    "X_train, X_test, y_train, y_test = train_test_split(X, y_encoded, test_size= 0.2, random_state=42)\n"
   ]
  },
  {
   "cell_type": "code",
   "execution_count": 73,
   "metadata": {},
   "outputs": [
    {
     "name": "stdout",
     "output_type": "stream",
     "text": [
      "Fitting 5 folds for each of 12 candidates, totalling 60 fits\n",
      "[CV 1/5] END learning_rate=0.01, max_depth=6, n_estimators=100;, score=0.645 total time=   8.8s\n",
      "[CV 2/5] END learning_rate=0.01, max_depth=6, n_estimators=100;, score=0.673 total time=  11.5s\n",
      "[CV 3/5] END learning_rate=0.01, max_depth=6, n_estimators=100;, score=0.661 total time=   8.5s\n",
      "[CV 4/5] END learning_rate=0.01, max_depth=6, n_estimators=100;, score=0.682 total time=   7.6s\n",
      "[CV 5/5] END learning_rate=0.01, max_depth=6, n_estimators=100;, score=0.690 total time=   7.6s\n",
      "[CV 1/5] END learning_rate=0.01, max_depth=6, n_estimators=300;, score=0.686 total time=  22.7s\n",
      "[CV 2/5] END learning_rate=0.01, max_depth=6, n_estimators=300;, score=0.710 total time=  21.2s\n",
      "[CV 3/5] END learning_rate=0.01, max_depth=6, n_estimators=300;, score=0.727 total time=  22.7s\n",
      "[CV 4/5] END learning_rate=0.01, max_depth=6, n_estimators=300;, score=0.673 total time=  21.6s\n",
      "[CV 5/5] END learning_rate=0.01, max_depth=6, n_estimators=300;, score=0.698 total time=  21.7s\n",
      "[CV 1/5] END learning_rate=0.01, max_depth=6, n_estimators=500;, score=0.702 total time=  35.4s\n",
      "[CV 2/5] END learning_rate=0.01, max_depth=6, n_estimators=500;, score=0.710 total time=  35.4s\n",
      "[CV 3/5] END learning_rate=0.01, max_depth=6, n_estimators=500;, score=0.731 total time=  35.0s\n",
      "[CV 4/5] END learning_rate=0.01, max_depth=6, n_estimators=500;, score=0.673 total time=  34.3s\n",
      "[CV 5/5] END learning_rate=0.01, max_depth=6, n_estimators=500;, score=0.727 total time=  25.2s\n",
      "[CV 1/5] END learning_rate=0.01, max_depth=8, n_estimators=100;, score=0.637 total time=  11.5s\n",
      "[CV 2/5] END learning_rate=0.01, max_depth=8, n_estimators=100;, score=0.669 total time=  12.2s\n",
      "[CV 3/5] END learning_rate=0.01, max_depth=8, n_estimators=100;, score=0.661 total time=  11.7s\n",
      "[CV 4/5] END learning_rate=0.01, max_depth=8, n_estimators=100;, score=0.673 total time=  11.4s\n",
      "[CV 5/5] END learning_rate=0.01, max_depth=8, n_estimators=100;, score=0.657 total time=  11.4s\n",
      "[CV 1/5] END learning_rate=0.01, max_depth=8, n_estimators=300;, score=0.669 total time=  34.7s\n",
      "[CV 2/5] END learning_rate=0.01, max_depth=8, n_estimators=300;, score=0.698 total time=  34.3s\n",
      "[CV 3/5] END learning_rate=0.01, max_depth=8, n_estimators=300;, score=0.706 total time=  34.0s\n",
      "[CV 4/5] END learning_rate=0.01, max_depth=8, n_estimators=300;, score=0.665 total time=  33.7s\n",
      "[CV 5/5] END learning_rate=0.01, max_depth=8, n_estimators=300;, score=0.665 total time=  33.1s\n",
      "[CV 1/5] END learning_rate=0.01, max_depth=8, n_estimators=500;, score=0.678 total time=  56.3s\n",
      "[CV 2/5] END learning_rate=0.01, max_depth=8, n_estimators=500;, score=0.694 total time=  58.9s\n",
      "[CV 3/5] END learning_rate=0.01, max_depth=8, n_estimators=500;, score=0.722 total time=  55.4s\n",
      "[CV 4/5] END learning_rate=0.01, max_depth=8, n_estimators=500;, score=0.673 total time=  53.8s\n",
      "[CV 5/5] END learning_rate=0.01, max_depth=8, n_estimators=500;, score=0.702 total time=  53.4s\n",
      "[CV 1/5] END learning_rate=0.1, max_depth=6, n_estimators=100;, score=0.694 total time=   6.8s\n",
      "[CV 2/5] END learning_rate=0.1, max_depth=6, n_estimators=100;, score=0.727 total time=   6.6s\n",
      "[CV 3/5] END learning_rate=0.1, max_depth=6, n_estimators=100;, score=0.727 total time=   6.1s\n",
      "[CV 4/5] END learning_rate=0.1, max_depth=6, n_estimators=100;, score=0.673 total time=   5.2s\n",
      "[CV 5/5] END learning_rate=0.1, max_depth=6, n_estimators=100;, score=0.706 total time=   5.0s\n",
      "[CV 1/5] END learning_rate=0.1, max_depth=6, n_estimators=300;, score=0.690 total time=  14.6s\n",
      "[CV 2/5] END learning_rate=0.1, max_depth=6, n_estimators=300;, score=0.706 total time=  14.3s\n",
      "[CV 3/5] END learning_rate=0.1, max_depth=6, n_estimators=300;, score=0.714 total time=  17.0s\n",
      "[CV 4/5] END learning_rate=0.1, max_depth=6, n_estimators=300;, score=0.682 total time=  25.7s\n",
      "[CV 5/5] END learning_rate=0.1, max_depth=6, n_estimators=300;, score=0.722 total time=  22.0s\n",
      "[CV 1/5] END learning_rate=0.1, max_depth=6, n_estimators=500;, score=0.682 total time=  28.7s\n",
      "[CV 2/5] END learning_rate=0.1, max_depth=6, n_estimators=500;, score=0.702 total time=  28.3s\n",
      "[CV 3/5] END learning_rate=0.1, max_depth=6, n_estimators=500;, score=0.702 total time=  33.5s\n",
      "[CV 4/5] END learning_rate=0.1, max_depth=6, n_estimators=500;, score=0.686 total time=  33.6s\n",
      "[CV 5/5] END learning_rate=0.1, max_depth=6, n_estimators=500;, score=0.718 total time=  33.2s\n",
      "[CV 1/5] END learning_rate=0.1, max_depth=8, n_estimators=100;, score=0.686 total time=  10.6s\n",
      "[CV 2/5] END learning_rate=0.1, max_depth=8, n_estimators=100;, score=0.727 total time=  11.1s\n",
      "[CV 3/5] END learning_rate=0.1, max_depth=8, n_estimators=100;, score=0.714 total time=  10.3s\n",
      "[CV 4/5] END learning_rate=0.1, max_depth=8, n_estimators=100;, score=0.673 total time=  11.1s\n",
      "[CV 5/5] END learning_rate=0.1, max_depth=8, n_estimators=100;, score=0.710 total time=  11.4s\n",
      "[CV 1/5] END learning_rate=0.1, max_depth=8, n_estimators=300;, score=0.698 total time=  30.1s\n",
      "[CV 2/5] END learning_rate=0.1, max_depth=8, n_estimators=300;, score=0.727 total time=  30.7s\n",
      "[CV 3/5] END learning_rate=0.1, max_depth=8, n_estimators=300;, score=0.710 total time=  26.2s\n",
      "[CV 4/5] END learning_rate=0.1, max_depth=8, n_estimators=300;, score=0.661 total time=  30.5s\n",
      "[CV 5/5] END learning_rate=0.1, max_depth=8, n_estimators=300;, score=0.706 total time=  31.8s\n",
      "[CV 1/5] END learning_rate=0.1, max_depth=8, n_estimators=500;, score=0.698 total time=  35.1s\n",
      "[CV 2/5] END learning_rate=0.1, max_depth=8, n_estimators=500;, score=0.727 total time=  33.8s\n",
      "[CV 3/5] END learning_rate=0.1, max_depth=8, n_estimators=500;, score=0.714 total time=  34.7s\n",
      "[CV 4/5] END learning_rate=0.1, max_depth=8, n_estimators=500;, score=0.661 total time=  34.2s\n",
      "[CV 5/5] END learning_rate=0.1, max_depth=8, n_estimators=500;, score=0.710 total time=  33.2s\n",
      "Best Hyperparameters: {'learning_rate': 0.01, 'max_depth': 6, 'n_estimators': 500}\n"
     ]
    }
   ],
   "source": [
    "\n",
    "# # Create the GradientBoostingClassifier model\n",
    "gradient_model = GradientBoostingClassifier(random_state=42)\n",
    "\n",
    "# # Define a parameter grid for GridSearchCV\n",
    "param_grid = {\n",
    "    'n_estimators': [100, 300, 500],  # Number of trees in the forest\n",
    "    'learning_rate': [0.01, 0.1],   # Learning rate\n",
    "    'max_depth': [6, 8],            # Maximum depth of the trees\n",
    "}\n",
    "\n",
    "# # Create the GridSearchCV object\n",
    "grid_search = GridSearchCV(gradient_model, param_grid, cv=5, verbose=3, scoring='accuracy')\n",
    "\n",
    "# # Fit the grid search to your training data\n",
    "grid_search.fit(X_train, y_train)\n",
    "\n",
    "# # Get the best hyperparameters\n",
    "best_params = grid_search.best_params_\n",
    "print(\"Best Hyperparameters:\", best_params)\n"
   ]
  },
  {
   "cell_type": "code",
   "execution_count": 74,
   "metadata": {},
   "outputs": [
    {
     "name": "stdout",
     "output_type": "stream",
     "text": [
      "      Iter       Train Loss   Remaining Time \n",
      "         1           1.0080           22.26s\n",
      "         2           0.9984           38.87s\n",
      "         3           0.9892           40.56s\n",
      "         4           0.9801           41.84s\n",
      "         5           0.9712           44.05s\n",
      "         6           0.9625           45.43s\n",
      "         7           0.9540           53.78s\n",
      "         8           0.9457           57.54s\n",
      "         9           0.9375            1.01m\n",
      "        10           0.9296            1.01m\n",
      "        11           0.9218            1.05m\n",
      "        12           0.9141            1.13m\n",
      "        13           0.9067            1.12m\n",
      "        14           0.8991            1.16m\n",
      "        15           0.8917            1.34m\n",
      "        16           0.8841            1.37m\n",
      "        17           0.8768            1.44m\n",
      "        18           0.8695            1.41m\n",
      "        19           0.8626            1.42m\n",
      "        20           0.8556            1.41m\n",
      "        21           0.8488            1.39m\n",
      "        22           0.8419            1.36m\n",
      "        23           0.8353            1.32m\n",
      "        24           0.8289            1.28m\n",
      "        25           0.8225            1.26m\n",
      "        26           0.8160            1.23m\n",
      "        27           0.8097            1.22m\n",
      "        28           0.8035            1.21m\n",
      "        29           0.7977            1.22m\n",
      "        30           0.7917            1.22m\n",
      "        31           0.7858            1.22m\n",
      "        32           0.7801            1.21m\n",
      "        33           0.7744            1.20m\n",
      "        34           0.7687            1.19m\n",
      "        35           0.7632            1.21m\n",
      "        36           0.7577            1.20m\n",
      "        37           0.7523            1.19m\n",
      "        38           0.7468            1.19m\n",
      "        39           0.7415            1.19m\n",
      "        40           0.7361            1.21m\n",
      "        41           0.7308            1.20m\n",
      "        42           0.7257            1.19m\n",
      "        43           0.7207            1.18m\n",
      "        44           0.7158            1.16m\n",
      "        45           0.7110            1.16m\n",
      "        46           0.7062            1.14m\n",
      "        47           0.7015            1.12m\n",
      "        48           0.6968            1.11m\n",
      "        49           0.6920            1.12m\n",
      "        50           0.6873            1.12m\n",
      "        51           0.6829            1.13m\n",
      "        52           0.6781            1.13m\n",
      "        53           0.6734            1.13m\n",
      "        54           0.6690            1.11m\n",
      "        55           0.6645            1.10m\n",
      "        56           0.6602            1.08m\n",
      "        57           0.6558            1.07m\n",
      "        58           0.6516            1.05m\n",
      "        59           0.6475            1.04m\n",
      "        60           0.6434            1.02m\n",
      "        61           0.6393            1.01m\n",
      "        62           0.6354           59.95s\n",
      "        63           0.6314           59.28s\n",
      "        64           0.6275           58.55s\n",
      "        65           0.6238           57.81s\n",
      "        66           0.6201           57.11s\n",
      "        67           0.6164           56.44s\n",
      "        68           0.6127           55.98s\n",
      "        69           0.6091           55.39s\n",
      "        70           0.6053           55.52s\n",
      "        71           0.6017           55.46s\n",
      "        72           0.5981           54.89s\n",
      "        73           0.5946           54.62s\n",
      "        74           0.5911           54.20s\n",
      "        75           0.5877           53.67s\n",
      "        76           0.5844           55.86s\n",
      "        77           0.5810           57.06s\n",
      "        78           0.5779           57.35s\n",
      "        79           0.5746           59.51s\n",
      "        80           0.5714           59.35s\n",
      "        81           0.5682           59.65s\n",
      "        82           0.5651           59.06s\n",
      "        83           0.5619           58.58s\n",
      "        84           0.5589           58.11s\n",
      "        85           0.5559           57.71s\n",
      "        86           0.5530           57.23s\n",
      "        87           0.5502           56.82s\n",
      "        88           0.5474           56.95s\n",
      "        89           0.5446           57.13s\n",
      "        90           0.5416           56.87s\n",
      "        91           0.5389           56.57s\n",
      "        92           0.5361           56.11s\n",
      "        93           0.5335           55.72s\n",
      "        94           0.5307           55.30s\n",
      "        95           0.5281           55.01s\n",
      "        96           0.5254           54.99s\n",
      "        97           0.5229           55.35s\n",
      "        98           0.5202           55.23s\n",
      "        99           0.5178           55.34s\n",
      "       100           0.5151           54.94s\n",
      "       101           0.5127           54.52s\n",
      "       102           0.5102           54.19s\n",
      "       103           0.5077           53.85s\n",
      "       104           0.5054           53.51s\n",
      "       105           0.5028           53.41s\n",
      "       106           0.5004           53.00s\n",
      "       107           0.4980           52.60s\n",
      "       108           0.4955           52.20s\n",
      "       109           0.4932           51.87s\n",
      "       110           0.4908           51.52s\n",
      "       111           0.4883           51.12s\n",
      "       112           0.4861           50.75s\n",
      "       113           0.4838           50.45s\n",
      "       114           0.4816           50.05s\n",
      "       115           0.4791           49.68s\n",
      "       116           0.4770           49.29s\n",
      "       117           0.4744           49.03s\n",
      "       118           0.4720           48.69s\n",
      "       119           0.4696           48.38s\n",
      "       120           0.4670           48.06s\n",
      "       121           0.4646           47.76s\n",
      "       122           0.4620           47.42s\n",
      "       123           0.4596           47.14s\n",
      "       124           0.4571           46.86s\n",
      "       125           0.4548           46.59s\n",
      "       126           0.4525           46.31s\n",
      "       127           0.4501           45.98s\n",
      "       128           0.4480           45.72s\n",
      "       129           0.4457           45.38s\n",
      "       130           0.4433           45.06s\n",
      "       131           0.4413           44.79s\n",
      "       132           0.4391           44.74s\n",
      "       133           0.4370           44.76s\n",
      "       134           0.4347           44.70s\n",
      "       135           0.4326           44.58s\n",
      "       136           0.4304           44.35s\n",
      "       137           0.4284           44.26s\n",
      "       138           0.4263           44.00s\n",
      "       139           0.4241           44.85s\n",
      "       140           0.4222           44.91s\n",
      "       141           0.4201           45.80s\n",
      "       142           0.4182           45.66s\n",
      "       143           0.4161           45.37s\n",
      "       144           0.4142           45.44s\n",
      "       145           0.4122           45.26s\n",
      "       146           0.4102           45.15s\n",
      "       147           0.4082           44.95s\n",
      "       148           0.4063           44.71s\n",
      "       149           0.4043           44.42s\n",
      "       150           0.4025           44.19s\n",
      "       151           0.4006           44.35s\n",
      "       152           0.3989           44.56s\n",
      "       153           0.3970           44.26s\n",
      "       154           0.3951           44.06s\n",
      "       155           0.3933           44.00s\n",
      "       156           0.3914           43.80s\n",
      "       157           0.3897           43.78s\n",
      "       158           0.3879           43.52s\n",
      "       159           0.3861           43.29s\n",
      "       160           0.3843           42.99s\n",
      "       161           0.3825           42.74s\n",
      "       162           0.3807           42.45s\n",
      "       163           0.3790           42.25s\n",
      "       164           0.3775           41.97s\n",
      "       165           0.3758           41.72s\n",
      "       166           0.3741           41.43s\n",
      "       167           0.3726           41.32s\n",
      "       168           0.3710           41.26s\n",
      "       169           0.3694           41.27s\n",
      "       170           0.3679           41.76s\n",
      "       171           0.3663           41.89s\n",
      "       172           0.3647           41.66s\n",
      "       173           0.3632           41.42s\n",
      "       174           0.3616           41.44s\n",
      "       175           0.3601           41.81s\n",
      "       176           0.3587           41.61s\n",
      "       177           0.3572           41.46s\n",
      "       178           0.3559           41.25s\n",
      "       179           0.3544           41.01s\n",
      "       180           0.3531           40.74s\n",
      "       181           0.3515           40.48s\n",
      "       182           0.3500           40.22s\n",
      "       183           0.3486           40.01s\n",
      "       184           0.3472           39.75s\n",
      "       185           0.3459           39.50s\n",
      "       186           0.3444           39.26s\n",
      "       187           0.3429           39.01s\n",
      "       188           0.3415           38.76s\n",
      "       189           0.3401           38.53s\n",
      "       190           0.3388           38.29s\n",
      "       191           0.3374           38.09s\n",
      "       192           0.3361           37.86s\n",
      "       193           0.3348           37.65s\n",
      "       194           0.3336           37.43s\n",
      "       195           0.3323           37.23s\n",
      "       196           0.3310           37.00s\n",
      "       197           0.3297           36.76s\n",
      "       198           0.3286           36.53s\n",
      "       199           0.3274           36.30s\n",
      "       200           0.3259           36.15s\n",
      "       201           0.3247           35.92s\n",
      "       202           0.3232           35.70s\n",
      "       203           0.3220           35.50s\n",
      "       204           0.3206           35.31s\n",
      "       205           0.3193           35.12s\n",
      "       206           0.3181           34.92s\n",
      "       207           0.3168           34.70s\n",
      "       208           0.3155           34.54s\n",
      "       209           0.3141           34.39s\n",
      "       210           0.3131           34.19s\n",
      "       211           0.3117           34.45s\n",
      "       212           0.3104           34.31s\n",
      "       213           0.3091           34.11s\n",
      "       214           0.3081           33.97s\n",
      "       215           0.3069           33.80s\n",
      "       216           0.3056           33.64s\n",
      "       217           0.3043           33.66s\n",
      "       218           0.3031           33.49s\n",
      "       219           0.3019           33.30s\n",
      "       220           0.3006           33.16s\n",
      "       221           0.2994           33.00s\n",
      "       222           0.2982           32.84s\n",
      "       223           0.2971           32.69s\n",
      "       224           0.2959           32.51s\n",
      "       225           0.2948           32.35s\n",
      "       226           0.2937           32.17s\n",
      "       227           0.2926           32.01s\n",
      "       228           0.2914           31.86s\n",
      "       229           0.2902           31.71s\n",
      "       230           0.2892           31.57s\n",
      "       231           0.2881           31.39s\n",
      "       232           0.2871           31.22s\n",
      "       233           0.2859           31.10s\n",
      "       234           0.2848           31.13s\n",
      "       235           0.2837           31.12s\n",
      "       236           0.2827           31.14s\n",
      "       237           0.2815           31.08s\n",
      "       238           0.2804           30.98s\n",
      "       239           0.2794           30.81s\n",
      "       240           0.2784           30.65s\n",
      "       241           0.2772           30.48s\n",
      "       242           0.2762           30.34s\n",
      "       243           0.2752           30.17s\n",
      "       244           0.2742           30.11s\n",
      "       245           0.2732           29.96s\n",
      "       246           0.2721           29.79s\n",
      "       247           0.2711           29.64s\n",
      "       248           0.2700           29.50s\n",
      "       249           0.2690           29.35s\n",
      "       250           0.2679           29.23s\n",
      "       251           0.2669           29.07s\n",
      "       252           0.2659           28.93s\n",
      "       253           0.2649           28.80s\n",
      "       254           0.2639           28.64s\n",
      "       255           0.2628           28.48s\n",
      "       256           0.2618           28.34s\n",
      "       257           0.2609           28.20s\n",
      "       258           0.2600           28.04s\n",
      "       259           0.2589           27.93s\n",
      "       260           0.2579           27.78s\n",
      "       261           0.2570           27.64s\n",
      "       262           0.2562           27.53s\n",
      "       263           0.2550           27.38s\n",
      "       264           0.2541           27.24s\n",
      "       265           0.2532           27.14s\n",
      "       266           0.2521           27.01s\n",
      "       267           0.2512           26.86s\n",
      "       268           0.2504           26.78s\n",
      "       269           0.2494           26.62s\n",
      "       270           0.2485           26.47s\n",
      "       271           0.2476           26.31s\n",
      "       272           0.2467           26.18s\n",
      "       273           0.2458           26.02s\n",
      "       274           0.2449           25.87s\n",
      "       275           0.2438           25.73s\n",
      "       276           0.2431           25.61s\n",
      "       277           0.2422           25.46s\n",
      "       278           0.2413           25.32s\n",
      "       279           0.2402           25.18s\n",
      "       280           0.2395           25.02s\n",
      "       281           0.2384           24.88s\n",
      "       282           0.2376           24.76s\n",
      "       283           0.2367           24.61s\n",
      "       284           0.2359           24.49s\n",
      "       285           0.2351           24.34s\n",
      "       286           0.2341           24.20s\n",
      "       287           0.2332           24.05s\n",
      "       288           0.2325           23.96s\n",
      "       289           0.2317           23.82s\n",
      "       290           0.2309           23.68s\n",
      "       291           0.2298           23.57s\n",
      "       292           0.2290           23.43s\n",
      "       293           0.2282           23.30s\n",
      "       294           0.2272           23.31s\n",
      "       295           0.2265           23.21s\n",
      "       296           0.2256           23.09s\n",
      "       297           0.2250           22.96s\n",
      "       298           0.2242           22.81s\n",
      "       299           0.2234           22.68s\n",
      "       300           0.2225           22.66s\n",
      "       301           0.2215           23.03s\n",
      "       302           0.2208           23.06s\n",
      "       303           0.2200           23.12s\n",
      "       304           0.2191           23.09s\n",
      "       305           0.2184           23.08s\n",
      "       306           0.2177           23.02s\n",
      "       307           0.2167           23.00s\n",
      "       308           0.2159           22.89s\n",
      "       309           0.2151           22.81s\n",
      "       310           0.2143           22.65s\n",
      "       311           0.2136           22.54s\n",
      "       312           0.2127           22.41s\n",
      "       313           0.2120           22.37s\n",
      "       314           0.2113           22.30s\n",
      "       315           0.2106           22.23s\n",
      "       316           0.2097           22.13s\n",
      "       317           0.2089           22.05s\n",
      "       318           0.2082           21.92s\n",
      "       319           0.2075           21.85s\n",
      "       320           0.2066           21.79s\n",
      "       321           0.2059           21.68s\n",
      "       322           0.2052           21.55s\n",
      "       323           0.2045           21.40s\n",
      "       324           0.2038           21.28s\n",
      "       325           0.2030           21.12s\n",
      "       326           0.2024           20.97s\n",
      "       327           0.2017           20.81s\n",
      "       328           0.2011           20.65s\n",
      "       329           0.2004           20.51s\n",
      "       330           0.1998           20.35s\n",
      "       331           0.1989           20.20s\n",
      "       332           0.1982           20.04s\n",
      "       333           0.1974           19.92s\n",
      "       334           0.1968           19.82s\n",
      "       335           0.1961           19.75s\n",
      "       336           0.1954           19.61s\n",
      "       337           0.1946           19.48s\n",
      "       338           0.1939           19.34s\n",
      "       339           0.1930           19.19s\n",
      "       340           0.1924           19.10s\n",
      "       341           0.1917           19.05s\n",
      "       342           0.1909           18.93s\n",
      "       343           0.1903           18.80s\n",
      "       344           0.1896           18.67s\n",
      "       345           0.1889           18.54s\n",
      "       346           0.1884           18.43s\n",
      "       347           0.1876           18.36s\n",
      "       348           0.1871           18.34s\n",
      "       349           0.1863           18.21s\n",
      "       350           0.1857           18.23s\n",
      "       351           0.1850           18.27s\n",
      "       352           0.1843           18.16s\n",
      "       353           0.1837           18.13s\n",
      "       354           0.1831           18.03s\n",
      "       355           0.1825           17.92s\n",
      "       356           0.1819           17.80s\n",
      "       357           0.1812           17.65s\n",
      "       358           0.1806           17.51s\n",
      "       359           0.1801           17.36s\n",
      "       360           0.1795           17.20s\n",
      "       361           0.1790           17.06s\n",
      "       362           0.1783           16.91s\n",
      "       363           0.1777           16.78s\n",
      "       364           0.1771           16.63s\n",
      "       365           0.1765           16.49s\n",
      "       366           0.1760           16.41s\n",
      "       367           0.1755           16.30s\n",
      "       368           0.1750           16.15s\n",
      "       369           0.1744           16.01s\n",
      "       370           0.1739           15.87s\n",
      "       371           0.1733           15.72s\n",
      "       372           0.1727           15.58s\n",
      "       373           0.1723           15.43s\n",
      "       374           0.1717           15.29s\n",
      "       375           0.1711           15.15s\n",
      "       376           0.1707           15.00s\n",
      "       377           0.1700           14.87s\n",
      "       378           0.1696           14.72s\n",
      "       379           0.1690           14.59s\n",
      "       380           0.1685           14.44s\n",
      "       381           0.1681           14.30s\n",
      "       382           0.1675           14.17s\n",
      "       383           0.1669           14.03s\n",
      "       384           0.1663           13.89s\n",
      "       385           0.1659           13.76s\n",
      "       386           0.1654           13.62s\n",
      "       387           0.1649           13.49s\n",
      "       388           0.1644           13.35s\n",
      "       389           0.1639           13.22s\n",
      "       390           0.1634           13.09s\n",
      "       391           0.1628           12.95s\n",
      "       392           0.1624           12.81s\n",
      "       393           0.1619           12.69s\n",
      "       394           0.1614           12.60s\n",
      "       395           0.1609           12.50s\n",
      "       396           0.1604           12.38s\n",
      "       397           0.1599           12.25s\n",
      "       398           0.1595           12.11s\n",
      "       399           0.1590           11.98s\n",
      "       400           0.1585           11.86s\n",
      "       401           0.1580           11.73s\n",
      "       402           0.1575           11.60s\n",
      "       403           0.1571           11.48s\n",
      "       404           0.1567           11.35s\n",
      "       405           0.1562           11.22s\n",
      "       406           0.1559           11.09s\n",
      "       407           0.1554           10.97s\n",
      "       408           0.1550           10.84s\n",
      "       409           0.1545           10.72s\n",
      "       410           0.1541           10.59s\n",
      "       411           0.1537           10.46s\n",
      "       412           0.1533           10.34s\n",
      "       413           0.1529           10.22s\n",
      "       414           0.1526           10.09s\n",
      "       415           0.1521            9.98s\n",
      "       416           0.1516            9.85s\n",
      "       417           0.1512            9.72s\n",
      "       418           0.1508            9.60s\n",
      "       419           0.1503            9.48s\n",
      "       420           0.1499            9.35s\n",
      "       421           0.1495            9.22s\n",
      "       422           0.1491            9.10s\n",
      "       423           0.1487            8.98s\n",
      "       424           0.1482            8.85s\n",
      "       425           0.1477            8.73s\n",
      "       426           0.1474            8.61s\n",
      "       427           0.1470            8.48s\n",
      "       428           0.1466            8.36s\n",
      "       429           0.1461            8.24s\n",
      "       430           0.1456            8.11s\n",
      "       431           0.1452            8.02s\n",
      "       432           0.1448            7.89s\n",
      "       433           0.1444            7.77s\n",
      "       434           0.1440            7.65s\n",
      "       435           0.1435            7.56s\n",
      "       436           0.1431            7.45s\n",
      "       437           0.1427            7.33s\n",
      "       438           0.1422            7.22s\n",
      "       439           0.1419            7.11s\n",
      "       440           0.1414            7.00s\n",
      "       441           0.1411            6.87s\n",
      "       442           0.1406            6.76s\n",
      "       443           0.1403            6.63s\n",
      "       444           0.1398            6.51s\n",
      "       445           0.1394            6.39s\n",
      "       446           0.1390            6.27s\n",
      "       447           0.1387            6.15s\n",
      "       448           0.1383            6.03s\n",
      "       449           0.1379            5.91s\n",
      "       450           0.1375            5.79s\n",
      "       451           0.1372            5.67s\n",
      "       452           0.1368            5.55s\n",
      "       453           0.1363            5.43s\n",
      "       454           0.1360            5.31s\n",
      "       455           0.1356            5.19s\n",
      "       456           0.1352            5.08s\n",
      "       457           0.1349            4.96s\n",
      "       458           0.1345            4.84s\n",
      "       459           0.1341            4.72s\n",
      "       460           0.1336            4.60s\n",
      "       461           0.1333            4.48s\n",
      "       462           0.1329            4.37s\n",
      "       463           0.1325            4.25s\n",
      "       464           0.1321            4.13s\n",
      "       465           0.1317            4.01s\n",
      "       466           0.1314            3.90s\n",
      "       467           0.1310            3.78s\n",
      "       468           0.1306            3.66s\n",
      "       469           0.1303            3.55s\n",
      "       470           0.1299            3.43s\n",
      "       471           0.1295            3.31s\n",
      "       472           0.1291            3.20s\n",
      "       473           0.1286            3.08s\n",
      "       474           0.1284            2.97s\n",
      "       475           0.1280            2.85s\n",
      "       476           0.1277            2.74s\n",
      "       477           0.1273            2.62s\n",
      "       478           0.1269            2.50s\n",
      "       479           0.1266            2.39s\n",
      "       480           0.1262            2.28s\n",
      "       481           0.1259            2.16s\n",
      "       482           0.1255            2.05s\n",
      "       483           0.1251            1.93s\n",
      "       484           0.1248            1.82s\n",
      "       485           0.1244            1.70s\n",
      "       486           0.1241            1.59s\n",
      "       487           0.1237            1.47s\n",
      "       488           0.1233            1.36s\n",
      "       489           0.1228            1.25s\n",
      "       490           0.1225            1.13s\n",
      "       491           0.1221            1.02s\n",
      "       492           0.1218            0.90s\n",
      "       493           0.1213            0.79s\n",
      "       494           0.1210            0.68s\n",
      "       495           0.1207            0.56s\n",
      "       496           0.1203            0.45s\n",
      "       497           0.1199            0.34s\n",
      "       498           0.1196            0.23s\n",
      "       499           0.1192            0.11s\n",
      "       500           0.1188            0.00s\n"
     ]
    },
    {
     "data": {
      "text/html": [
       "<style>#sk-container-id-2 {color: black;background-color: white;}#sk-container-id-2 pre{padding: 0;}#sk-container-id-2 div.sk-toggleable {background-color: white;}#sk-container-id-2 label.sk-toggleable__label {cursor: pointer;display: block;width: 100%;margin-bottom: 0;padding: 0.3em;box-sizing: border-box;text-align: center;}#sk-container-id-2 label.sk-toggleable__label-arrow:before {content: \"▸\";float: left;margin-right: 0.25em;color: #696969;}#sk-container-id-2 label.sk-toggleable__label-arrow:hover:before {color: black;}#sk-container-id-2 div.sk-estimator:hover label.sk-toggleable__label-arrow:before {color: black;}#sk-container-id-2 div.sk-toggleable__content {max-height: 0;max-width: 0;overflow: hidden;text-align: left;background-color: #f0f8ff;}#sk-container-id-2 div.sk-toggleable__content pre {margin: 0.2em;color: black;border-radius: 0.25em;background-color: #f0f8ff;}#sk-container-id-2 input.sk-toggleable__control:checked~div.sk-toggleable__content {max-height: 200px;max-width: 100%;overflow: auto;}#sk-container-id-2 input.sk-toggleable__control:checked~label.sk-toggleable__label-arrow:before {content: \"▾\";}#sk-container-id-2 div.sk-estimator input.sk-toggleable__control:checked~label.sk-toggleable__label {background-color: #d4ebff;}#sk-container-id-2 div.sk-label input.sk-toggleable__control:checked~label.sk-toggleable__label {background-color: #d4ebff;}#sk-container-id-2 input.sk-hidden--visually {border: 0;clip: rect(1px 1px 1px 1px);clip: rect(1px, 1px, 1px, 1px);height: 1px;margin: -1px;overflow: hidden;padding: 0;position: absolute;width: 1px;}#sk-container-id-2 div.sk-estimator {font-family: monospace;background-color: #f0f8ff;border: 1px dotted black;border-radius: 0.25em;box-sizing: border-box;margin-bottom: 0.5em;}#sk-container-id-2 div.sk-estimator:hover {background-color: #d4ebff;}#sk-container-id-2 div.sk-parallel-item::after {content: \"\";width: 100%;border-bottom: 1px solid gray;flex-grow: 1;}#sk-container-id-2 div.sk-label:hover label.sk-toggleable__label {background-color: #d4ebff;}#sk-container-id-2 div.sk-serial::before {content: \"\";position: absolute;border-left: 1px solid gray;box-sizing: border-box;top: 0;bottom: 0;left: 50%;z-index: 0;}#sk-container-id-2 div.sk-serial {display: flex;flex-direction: column;align-items: center;background-color: white;padding-right: 0.2em;padding-left: 0.2em;position: relative;}#sk-container-id-2 div.sk-item {position: relative;z-index: 1;}#sk-container-id-2 div.sk-parallel {display: flex;align-items: stretch;justify-content: center;background-color: white;position: relative;}#sk-container-id-2 div.sk-item::before, #sk-container-id-2 div.sk-parallel-item::before {content: \"\";position: absolute;border-left: 1px solid gray;box-sizing: border-box;top: 0;bottom: 0;left: 50%;z-index: -1;}#sk-container-id-2 div.sk-parallel-item {display: flex;flex-direction: column;z-index: 1;position: relative;background-color: white;}#sk-container-id-2 div.sk-parallel-item:first-child::after {align-self: flex-end;width: 50%;}#sk-container-id-2 div.sk-parallel-item:last-child::after {align-self: flex-start;width: 50%;}#sk-container-id-2 div.sk-parallel-item:only-child::after {width: 0;}#sk-container-id-2 div.sk-dashed-wrapped {border: 1px dashed gray;margin: 0 0.4em 0.5em 0.4em;box-sizing: border-box;padding-bottom: 0.4em;background-color: white;}#sk-container-id-2 div.sk-label label {font-family: monospace;font-weight: bold;display: inline-block;line-height: 1.2em;}#sk-container-id-2 div.sk-label-container {text-align: center;}#sk-container-id-2 div.sk-container {/* jupyter's `normalize.less` sets `[hidden] { display: none; }` but bootstrap.min.css set `[hidden] { display: none !important; }` so we also need the `!important` here to be able to override the default hidden behavior on the sphinx rendered scikit-learn.org. See: https://github.com/scikit-learn/scikit-learn/issues/21755 */display: inline-block !important;position: relative;}#sk-container-id-2 div.sk-text-repr-fallback {display: none;}</style><div id=\"sk-container-id-2\" class=\"sk-top-container\"><div class=\"sk-text-repr-fallback\"><pre>GradientBoostingClassifier(learning_rate=0.01, max_depth=6, n_estimators=500,\n",
       "                           random_state=42, verbose=3)</pre><b>In a Jupyter environment, please rerun this cell to show the HTML representation or trust the notebook. <br />On GitHub, the HTML representation is unable to render, please try loading this page with nbviewer.org.</b></div><div class=\"sk-container\" hidden><div class=\"sk-item\"><div class=\"sk-estimator sk-toggleable\"><input class=\"sk-toggleable__control sk-hidden--visually\" id=\"sk-estimator-id-2\" type=\"checkbox\" checked><label for=\"sk-estimator-id-2\" class=\"sk-toggleable__label sk-toggleable__label-arrow\">GradientBoostingClassifier</label><div class=\"sk-toggleable__content\"><pre>GradientBoostingClassifier(learning_rate=0.01, max_depth=6, n_estimators=500,\n",
       "                           random_state=42, verbose=3)</pre></div></div></div></div></div>"
      ],
      "text/plain": [
       "GradientBoostingClassifier(learning_rate=0.01, max_depth=6, n_estimators=500,\n",
       "                           random_state=42, verbose=3)"
      ]
     },
     "execution_count": 74,
     "metadata": {},
     "output_type": "execute_result"
    }
   ],
   "source": [
    "\n",
    "#read in model\n",
    "#model = GradientBoostingClassifier(cat_features=categorical_columns, random_seed = 42, verbose=3)\n",
    "\n",
    "\n",
    "# best_params = {\n",
    "#     'n_estimators': 500,  # Increase the number of estimators\n",
    "#     'learning_rate': 0.1,  # Decrease learning rate\n",
    "#     'max_depth': 6,  # You can choose an appropriate value\n",
    "# }\n",
    "\n",
    "#best model with params\n",
    "best_gradient_model = GradientBoostingClassifier(random_state = 42, verbose = 3, **best_params)\n",
    "\n",
    "#fit the data\n",
    "best_gradient_model.fit(X_train, y_train)"
   ]
  },
  {
   "cell_type": "code",
   "execution_count": 75,
   "metadata": {},
   "outputs": [
    {
     "name": "stdout",
     "output_type": "stream",
     "text": [
      "[2 2 0 0 0 0 2 1 2 2 1 2 1 0 2 2 0 0 0 2 0 1 2 1 2 0 0 2 0 2 0 2 2 2 2 0 0\n",
      " 0 1 2 1 0 0 2 0 2 0 1 0 0 2 1 1 2 2 0 0 2 2 1 2 2 1 2 1 2 1 0 2 0 0 0 2 0\n",
      " 0 1 0 2 0 0 2 1 0 2 2 2 0 1 2 0 0 0 0 1 2 0 0 2 2 0 2 2 0 2 0 2 2 1 2 0 2\n",
      " 1 1 0 2 2 2 0 2 2 2 0 0 2 2 2 1 2 2 0 2 2 2 1 1 1 1 1 1 1 2 2 2 0 2 0 1 2\n",
      " 0 2 0 2 2 2 2 0 2 0 2 1 0 2 1 2 0 2 0 0 2 1 0 0 0 0 0 2 1 2 2 2 1 1 2 0 0\n",
      " 0 2 2 1 2 2 0 2 0 1 0 0 2 1 2 0 0 1 2 0 2 2 2 2 2 0 2 2 0 2 0 2 0 0 0 2 0\n",
      " 2 2 1 2 1 2 0 1 1 0 0 2 0 0 0 2 1 2 2 2 2 1 0 2 2 0 2 0 0 0 0 0 0 2 0 2 2\n",
      " 0 1 0 0 1 0 1 0 0 0 0 2 0 2 1 2 0 1 2 0 2 2 2 2 0 0 2 2 1 0 2 0 2 2 1 2 0\n",
      " 2 0 1 0 2 0 2 2 0 2 2]\n"
     ]
    }
   ],
   "source": [
    "#use the model to make predictions on X_test\n",
    "y_pred = best_gradient_model.predict(X_test)\n",
    "\n",
    "print(y_pred)"
   ]
  },
  {
   "cell_type": "code",
   "execution_count": 76,
   "metadata": {},
   "outputs": [
    {
     "name": "stdout",
     "output_type": "stream",
     "text": [
      "F1 Score: 0.7003257328990228\n"
     ]
    }
   ],
   "source": [
    "# Calculate f-1 score\n",
    "f1 = f1_score(y_test, y_pred, average='micro')\n",
    "print(\"F1 Score:\", f1)\n"
   ]
  },
  {
   "cell_type": "code",
   "execution_count": 77,
   "metadata": {},
   "outputs": [
    {
     "name": "stdout",
     "output_type": "stream",
     "text": [
      "Precision: 0.70\n",
      "Recall: 0.70\n"
     ]
    }
   ],
   "source": [
    "from sklearn.metrics import precision_score, recall_score\n",
    "\n",
    "# Assuming you have true labels (y_test) and predicted labels (y_pred)\n",
    "# Calculate precision\n",
    "precision = precision_score(y_test, y_pred, average='micro')\n",
    "\n",
    "# Calculate recall\n",
    "recall = recall_score(y_test, y_pred, average='micro')\n",
    "\n",
    "print(f'Precision: {precision:.2f}')\n",
    "print(f'Recall: {recall:.2f}')\n"
   ]
  },
  {
   "cell_type": "code",
   "execution_count": 78,
   "metadata": {},
   "outputs": [
    {
     "data": {
      "image/png": "[encoded data removed]",
      "text/plain": [
       "<Figure size 800x600 with 1 Axes>"
      ]
     },
     "metadata": {},
     "output_type": "display_data"
    }
   ],
   "source": [
    "from sklearn.metrics import confusion_matrix\n",
    "import seaborn as sns\n",
    "import matplotlib.pyplot as plt\n",
    "\n",
    "# Assuming you have true labels (y_test) and predicted labels (y_pred)\n",
    "confusion = confusion_matrix(y_test, y_pred)\n",
    "\n",
    "# Create a heatmap of the confusion matrix\n",
    "plt.figure(figsize=(8, 6))\n",
    "sns.heatmap(confusion, annot=True, fmt='d', cmap='Blues', cbar=False)\n",
    "plt.xlabel('Predicted')\n",
    "plt.ylabel('True')\n",
    "plt.title('Confusion Matrix')\n",
    "plt.show()\n"
   ]
  },
  {
   "cell_type": "code",
   "execution_count": 79,
   "metadata": {},
   "outputs": [
    {
     "name": "stdout",
     "output_type": "stream",
     "text": [
      "              precision    recall  f1-score   support\n",
      "\n",
      "           0       0.68      0.77      0.72       104\n",
      "           1       0.69      0.51      0.59        72\n",
      "           2       0.72      0.75      0.73       131\n",
      "\n",
      "    accuracy                           0.70       307\n",
      "   macro avg       0.70      0.68      0.68       307\n",
      "weighted avg       0.70      0.70      0.70       307\n",
      "\n"
     ]
    }
   ],
   "source": [
    "from sklearn.metrics import classification_report\n",
    "\n",
    "# Assuming you have true labels (y_test) and predicted labels (y_pred)\n",
    "report = classification_report(y_test, y_pred)\n",
    "\n",
    "# Print the classification report\n",
    "print(report)\n"
   ]
  },
  {
   "cell_type": "code",
   "execution_count": 80,
   "metadata": {},
   "outputs": [
    {
     "data": {
      "text/plain": [
       "['gradient_model.pkl']"
      ]
     },
     "execution_count": 80,
     "metadata": {},
     "output_type": "execute_result"
    }
   ],
   "source": [
    "#save the model\n",
    "import joblib\n",
    "\n",
    "# Save the trained model to a file\n",
    "joblib.dump(best_gradient_model, 'gradient_model.pkl')"
   ]
  },
  {
   "cell_type": "code",
   "execution_count": 81,
   "metadata": {},
   "outputs": [],
   "source": [
    "#load in the model \n",
    "loaded_model = joblib.load('gradient_model.pkl')\n"
   ]
  },
  {
   "cell_type": "code",
   "execution_count": 82,
   "metadata": {},
   "outputs": [],
   "source": [
    "object_columns_test = test_data.select_dtypes(include=['object'])\n",
    "\n",
    "# Iterate through categorical columns and encode them\n",
    "for column in object_columns_test:\n",
    "    test_data[column] = label_encoder.fit_transform(test_data[column])\n"
   ]
  },
  {
   "cell_type": "code",
   "execution_count": 83,
   "metadata": {},
   "outputs": [
    {
     "name": "stdout",
     "output_type": "stream",
     "text": [
      "28\n",
      "28\n"
     ]
    }
   ],
   "source": [
    "#check columns match\n",
    "print(len(test_data.columns))\n",
    "print(len(X_train.columns))"
   ]
  },
  {
   "cell_type": "code",
   "execution_count": 84,
   "metadata": {},
   "outputs": [
    {
     "name": "stdout",
     "output_type": "stream",
     "text": [
      "Missing Columns: set()\n"
     ]
    }
   ],
   "source": [
    "# Assuming X contains your reference DataFrame and test_data contains the DataFrame to be compared\n",
    "\n",
    "# Get the set of columns in X and test_data\n",
    "columns_in_X = set(X_train.columns)\n",
    "columns_in_test_data = set(test_data.columns)\n",
    "\n",
    "# Find the columns that are in X but not in test_data\n",
    "missing_columns = columns_in_test_data - columns_in_X\n",
    "\n",
    "# Print the missing columns\n",
    "print(\"Missing Columns:\", missing_columns)\n"
   ]
  },
  {
   "cell_type": "code",
   "execution_count": 85,
   "metadata": {},
   "outputs": [
    {
     "data": {
      "text/plain": [
       "array([2, 2, 2, 1, 2, 0, 2, 0, 2, 2, 0, 2, 2, 2, 2, 2, 2, 2, 0, 0, 2, 0,\n",
       "       0, 2, 0, 2, 2, 1, 2, 2, 2, 2, 0, 2, 2, 0, 2, 2, 0, 2, 0, 2, 0, 2,\n",
       "       2, 2, 0, 2, 2, 2, 0, 2, 0, 2, 2, 2, 0, 0, 0, 0, 2, 2, 2, 0, 0, 2,\n",
       "       2, 0, 2, 2, 0, 2, 2, 2, 1, 0, 1, 2, 0, 1, 0, 1, 2, 1, 2, 2, 2, 2,\n",
       "       2, 2, 2, 2, 0, 2, 2, 2, 0, 2, 0, 0, 2, 2, 2, 2, 2, 2, 0, 1, 2, 2,\n",
       "       2, 2, 2, 0, 2, 2, 2, 0, 1, 2, 0, 2, 2, 2, 2, 2, 2, 2, 1, 2, 2, 2,\n",
       "       2, 0, 0, 2, 2, 2, 2, 2, 1, 0, 0, 0, 0, 2, 2, 2, 0, 2, 2, 0, 2, 2,\n",
       "       0, 2, 2, 2, 2, 1, 2, 0, 2, 1, 2, 0, 2, 2, 1, 2, 2, 2, 2, 2, 2, 2,\n",
       "       0, 2, 2, 2, 0, 0, 2, 2, 0, 1, 2, 0, 2, 2, 2, 2, 2, 0, 2, 0, 2, 2,\n",
       "       0, 0, 0, 2, 2, 2, 0, 2, 2, 2, 1, 2, 2, 2, 2, 2, 2, 1, 2, 2, 2, 2,\n",
       "       2, 1, 2, 0, 0, 0, 0, 2, 0, 2, 2, 2, 0, 2, 2, 2, 2, 2, 0, 1, 0, 0,\n",
       "       2, 2, 2, 2, 2, 0, 0, 2, 2, 2, 0, 2, 0, 0, 2, 0, 2, 2, 1, 0, 0, 2,\n",
       "       2, 2, 2, 0, 2, 2, 2, 0, 1, 2, 2, 0, 1, 2, 0, 2, 0, 2, 0, 2, 0, 0,\n",
       "       2, 2, 2, 0, 2, 0, 0, 2, 0, 2, 2, 2, 0, 0, 2, 0, 2, 2, 2, 2, 2, 2,\n",
       "       1, 0, 2, 2, 0, 0, 2, 2, 2, 2, 2, 2, 2, 0, 2, 1, 2, 0, 2, 2, 0, 0,\n",
       "       2, 2, 2, 0, 2, 2, 2, 2, 2, 2, 2, 2, 0, 2, 2, 2, 2, 0, 2, 2, 0, 1,\n",
       "       2, 0, 1, 2, 1, 2, 0, 2, 2, 0, 0, 0, 2, 0, 0, 2, 0, 2, 2, 2, 2, 1,\n",
       "       2, 1, 2, 2, 2, 2, 0, 0, 2, 0, 2, 2, 0, 2, 2, 2, 0, 0, 2, 1, 2, 1,\n",
       "       2, 0, 2, 0, 2, 2, 2, 2, 2, 2, 2, 2, 2, 2, 2, 2, 0, 2, 0, 0, 2, 2,\n",
       "       2, 1, 2, 0, 0, 0, 0, 0, 2, 1, 2, 2, 2, 1, 0, 0, 2, 0, 2, 2, 2, 2,\n",
       "       0, 2, 2, 2, 2, 0, 2, 0, 2, 0, 2, 1, 0, 2, 0, 2, 2, 2, 2, 2, 2, 2,\n",
       "       2, 2, 2, 2, 1, 2, 0, 2, 2, 0, 2, 1, 2, 2, 2, 2, 2, 1, 0, 0, 2, 1,\n",
       "       2, 2, 0, 2, 0, 2, 0, 0, 2, 0, 2, 0, 2, 1, 0, 2, 1, 1, 2, 1, 2, 2,\n",
       "       0, 2, 0, 2, 2, 0, 2, 1, 0, 2, 1, 0, 0, 2, 2, 2, 2, 2, 2, 0, 0, 1,\n",
       "       2, 1, 0, 1, 2, 0, 2, 0, 2, 0, 2, 2, 2, 2, 0, 2, 1, 2, 0, 2, 2, 2,\n",
       "       1, 1, 2, 2, 1, 1, 0, 0, 0, 1, 2, 0, 2, 2, 0, 0, 2, 2, 0, 0, 1, 2,\n",
       "       1, 0, 2, 1, 2, 0, 2, 2, 0, 2, 0, 2, 1, 0, 2, 2, 2, 2, 2, 2, 2, 0,\n",
       "       2, 2, 2, 2, 0, 2, 2, 2, 1, 2, 2, 2, 2, 2, 2, 0, 1, 1, 0, 2, 2, 0,\n",
       "       2, 2, 2, 2, 0, 0, 0, 2, 1, 2, 2, 0, 2, 2, 2, 0, 2, 0, 0, 0, 2, 2,\n",
       "       0, 2, 2, 2, 1, 2, 2, 0, 2, 2, 2, 2, 1, 0, 2, 0, 1, 2, 2, 2, 2, 2,\n",
       "       2, 2, 2, 2, 2, 2, 0, 1, 0, 2, 1, 1, 0, 1, 1, 2, 2, 2, 2, 2, 2, 1,\n",
       "       2, 2, 2, 2, 2, 2, 2, 2, 2, 2, 2, 2, 0, 2, 0, 2, 0, 0, 0, 2, 1, 0,\n",
       "       2, 1, 0, 2, 1, 2, 2, 0, 0, 2, 2, 1, 2, 1, 2, 2, 0, 0, 0, 0, 2, 2,\n",
       "       0, 2, 1, 2, 2, 2, 2, 2, 2, 2, 2, 2, 1, 2, 0, 2, 1, 2, 0, 1, 2, 2,\n",
       "       2, 0, 1, 2, 0, 0, 2, 2, 2, 2, 2, 0, 0, 0, 2, 1, 2, 2, 0, 1, 2, 1,\n",
       "       2, 0, 0, 0, 2, 2, 0, 2, 2, 2, 2, 2, 2, 2, 2, 2, 1, 0, 1, 1, 0, 2,\n",
       "       1, 1, 2, 2, 2, 2, 0, 2, 2, 2, 2, 0, 1, 2, 0, 2, 2, 1, 2, 2, 2, 2,\n",
       "       0, 1, 0, 0, 2, 1, 1, 2, 2, 2])"
      ]
     },
     "execution_count": 85,
     "metadata": {},
     "output_type": "execute_result"
    }
   ],
   "source": [
    "test_predictions = loaded_model.predict(test_data)\n",
    "\n",
    "test_predictions"
   ]
  },
  {
   "cell_type": "code",
   "execution_count": 86,
   "metadata": {},
   "outputs": [
    {
     "data": {
      "text/html": [
       "<div>\n",
       "<style scoped>\n",
       "    .dataframe tbody tr th:only-of-type {\n",
       "        vertical-align: middle;\n",
       "    }\n",
       "\n",
       "    .dataframe tbody tr th {\n",
       "        vertical-align: top;\n",
       "    }\n",
       "\n",
       "    .dataframe thead th {\n",
       "        text-align: right;\n",
       "    }\n",
       "</style>\n",
       "<table border=\"1\" class=\"dataframe\">\n",
       "  <thead>\n",
       "    <tr style=\"text-align: right;\">\n",
       "      <th></th>\n",
       "      <th>id</th>\n",
       "      <th>outcome</th>\n",
       "    </tr>\n",
       "  </thead>\n",
       "  <tbody>\n",
       "    <tr>\n",
       "      <th>0</th>\n",
       "      <td>1235</td>\n",
       "      <td>2</td>\n",
       "    </tr>\n",
       "    <tr>\n",
       "      <th>1</th>\n",
       "      <td>1236</td>\n",
       "      <td>2</td>\n",
       "    </tr>\n",
       "    <tr>\n",
       "      <th>2</th>\n",
       "      <td>1237</td>\n",
       "      <td>2</td>\n",
       "    </tr>\n",
       "    <tr>\n",
       "      <th>3</th>\n",
       "      <td>1238</td>\n",
       "      <td>1</td>\n",
       "    </tr>\n",
       "    <tr>\n",
       "      <th>4</th>\n",
       "      <td>1239</td>\n",
       "      <td>2</td>\n",
       "    </tr>\n",
       "  </tbody>\n",
       "</table>\n",
       "</div>"
      ],
      "text/plain": [
       "     id  outcome\n",
       "0  1235        2\n",
       "1  1236        2\n",
       "2  1237        2\n",
       "3  1238        1\n",
       "4  1239        2"
      ]
     },
     "execution_count": 86,
     "metadata": {},
     "output_type": "execute_result"
    }
   ],
   "source": [
    "#make dataframe of predictions\n",
    "submission_df = pd.DataFrame({'id': test_data['id'],\n",
    "                           'outcome': test_predictions})\n",
    "\n",
    "submission_df.head()"
   ]
  },
  {
   "cell_type": "code",
   "execution_count": 87,
   "metadata": {},
   "outputs": [
    {
     "name": "stdout",
     "output_type": "stream",
     "text": [
      "824\n"
     ]
    },
    {
     "data": {
      "text/html": [
       "<div>\n",
       "<style scoped>\n",
       "    .dataframe tbody tr th:only-of-type {\n",
       "        vertical-align: middle;\n",
       "    }\n",
       "\n",
       "    .dataframe tbody tr th {\n",
       "        vertical-align: top;\n",
       "    }\n",
       "\n",
       "    .dataframe thead th {\n",
       "        text-align: right;\n",
       "    }\n",
       "</style>\n",
       "<table border=\"1\" class=\"dataframe\">\n",
       "  <thead>\n",
       "    <tr style=\"text-align: right;\">\n",
       "      <th></th>\n",
       "      <th>id</th>\n",
       "      <th>outcome</th>\n",
       "    </tr>\n",
       "  </thead>\n",
       "  <tbody>\n",
       "    <tr>\n",
       "      <th>0</th>\n",
       "      <td>1235</td>\n",
       "      <td>euthenized</td>\n",
       "    </tr>\n",
       "    <tr>\n",
       "      <th>1</th>\n",
       "      <td>1236</td>\n",
       "      <td>euthenized</td>\n",
       "    </tr>\n",
       "    <tr>\n",
       "      <th>2</th>\n",
       "      <td>1237</td>\n",
       "      <td>euthenized</td>\n",
       "    </tr>\n",
       "    <tr>\n",
       "      <th>3</th>\n",
       "      <td>1238</td>\n",
       "      <td>lived</td>\n",
       "    </tr>\n",
       "    <tr>\n",
       "      <th>4</th>\n",
       "      <td>1239</td>\n",
       "      <td>euthenized</td>\n",
       "    </tr>\n",
       "  </tbody>\n",
       "</table>\n",
       "</div>"
      ],
      "text/plain": [
       "     id     outcome\n",
       "0  1235  euthenized\n",
       "1  1236  euthenized\n",
       "2  1237  euthenized\n",
       "3  1238       lived\n",
       "4  1239  euthenized"
      ]
     },
     "execution_count": 87,
     "metadata": {},
     "output_type": "execute_result"
    }
   ],
   "source": [
    "# undo encoding\n",
    "submission_df['outcome'] = submission_df['outcome'].replace({\n",
    "                                                             1: 'lived',\n",
    "                                                             0: 'died'})\n",
    "\n",
    "print(len(submission_df))\n",
    "submission_df.head()"
   ]
  },
  {
   "cell_type": "code",
   "execution_count": 88,
   "metadata": {},
   "outputs": [],
   "source": [
    "submission_df.to_csv(\"data/submission_gradientBoost.csv\", index=False)\n"
   ]
  },
  {
   "cell_type": "code",
   "execution_count": 44,
   "metadata": {},
   "outputs": [
    {
     "data": {
      "image/png": "[encoded data removed]",
      "text/plain": [
       "<Figure size 2000x1200 with 1 Axes>"
      ]
     },
     "metadata": {},
     "output_type": "display_data"
    }
   ],
   "source": [
    "feature_importance = best_gradient_model.feature_importances_\n",
    "sorted_idx = np.argsort(feature_importance)\n",
    "fig, ax = plt.subplots(figsize=(20, 12))\n",
    "\n",
    "# Use the column names from X_train as feature labels\n",
    "ax.barh(range(len(sorted_idx)), feature_importance[sorted_idx], align='center')\n",
    "ax.set_yticks(range(len(sorted_idx)))\n",
    "ax.set_yticklabels(X_train.columns[sorted_idx], rotation=30)  # Rotate labels to 0 degrees\n",
    "ax.set_title('Feature Importance')\n",
    "\n",
    "plt.tight_layout()\n",
    "plt.show()\n"
   ]
  },
  {
   "cell_type": "code",
   "execution_count": 45,
   "metadata": {},
   "outputs": [
    {
     "name": "stdout",
     "output_type": "stream",
     "text": [
      "Index(['lesion_3', 'cp_data', 'lesion_2', 'surgery', 'peripheral_pulse',\n",
      "       'capillary_refill_time', 'age', 'nasogastric_reflux',\n",
      "       'nasogastric_tube', 'peristalsis', 'abdomen', 'surgical_lesion',\n",
      "       'abdomo_appearance', 'abdominal_distention', 'nasogastric_reflux_ph',\n",
      "       'rectal_exam_feces', 'mucous_membrane', 'abdomo_protein',\n",
      "       'respiratory_rate', 'id'],\n",
      "      dtype='object')\n"
     ]
    }
   ],
   "source": [
    "feature_importance = best_gradient_model.feature_importances_\n",
    "sorted_idx = np.argsort(feature_importance)\n",
    "\n",
    "# List of feature names in ascending order of importance\n",
    "sorted_features = X_train.columns[sorted_idx]\n",
    "\n",
    "# Print the bottom N least important features\n",
    "bottom_n = 20\n",
    "print(sorted_features[:bottom_n])\n"
   ]
  }
 ],
 "metadata": {
  "kernelspec": {
   "display_name": "base",
   "language": "python",
   "name": "python3"
  },
  "language_info": {
   "codemirror_mode": {
    "name": "ipython",
    "version": 3
   },
   "file_extension": ".py",
   "mimetype": "text/x-python",
   "name": "python",
   "nbconvert_exporter": "python",
   "pygments_lexer": "ipython3",
   "version": "3.10.9"
  },
  "orig_nbformat": 4
 },
 "nbformat": 4,
 "nbformat_minor": 2
}
